{
 "cells": [
  {
   "cell_type": "markdown",
   "metadata": {},
   "source": [
    "# Introduction\n",
    "\n",
    "In this project, you will build a neural network of your own design to evaluate the MNIST dataset.\n",
    "\n",
    "Some of the benchmark results on MNIST include can be found [on Yann LeCun's page](http://yann.lecun.com/exdb/mnist/) and include:\n",
    "\n",
    "88% [Lecun et al., 1998](http://yann.lecun.com/exdb/publis/pdf/lecun-98.pdf)\n",
    "95.3% [Lecun et al., 1998](http://yann.lecun.com/exdb/publis/pdf/lecun-98.pdf)\n",
    "99.65% [Ciresan et al., 2011](http://people.idsia.ch/~juergen/ijcai2011.pdf)\n",
    "\n",
    "MNIST is a great dataset for sanity checking your models, since the accuracy levels achieved by large convolutional neural networks and small linear models are both quite high. This makes it important to be familiar with the data.\n",
    "\n",
    "## Imports"
   ]
  },
  {
   "cell_type": "code",
   "execution_count": 1,
   "metadata": {},
   "outputs": [],
   "source": [
    "## This cell contains the essential imports you will need – DO NOT CHANGE THE CONTENTS! ##\n",
    "import torch\n",
    "import torch.nn as nn\n",
    "import torch.nn.functional as F\n",
    "import torch.optim as optim\n",
    "import torchvision\n",
    "import torchvision.transforms as transforms\n",
    "import matplotlib.pyplot as plt\n",
    "import numpy as np"
   ]
  },
  {
   "cell_type": "code",
   "execution_count": 2,
   "metadata": {},
   "outputs": [
    {
     "data": {
      "text/plain": [
       "device(type='cuda')"
      ]
     },
     "execution_count": 2,
     "metadata": {},
     "output_type": "execute_result"
    }
   ],
   "source": [
    "device = torch.device( 'cuda' if torch.cuda.is_available() else 'cpu')\n",
    "device"
   ]
  },
  {
   "cell_type": "markdown",
   "metadata": {},
   "source": [
    "## Load the Dataset\n",
    "\n",
    "Specify your transforms as a list if you intend to .\n",
    "The transforms module is already loaded as `transforms`.\n",
    "\n",
    "MNIST is fortunately included in the torchvision module.\n",
    "Then, you can create your dataset using the `MNIST` object from `torchvision.datasets` ([the documentation is available here](https://pytorch.org/vision/stable/datasets.html#mnist)).\n",
    "Make sure to specify `download=True`! \n",
    "\n",
    "Once your dataset is created, you'll also need to define a `DataLoader` from the `torch.utils.data` module for both the train and the test set."
   ]
  },
  {
   "cell_type": "code",
   "execution_count": 4,
   "metadata": {},
   "outputs": [
    {
     "name": "stdout",
     "output_type": "stream",
     "text": [
      "The training set is 48000, the validation set is 12000 and the test set is 10000.\n"
     ]
    }
   ],
   "source": [
    "# Define transforms\n",
    "## YOUR CODE HERE ##\n",
    "transform = transforms.Compose([transforms.ToTensor(), transforms.Normalize((0.5),(0.5))])\n",
    "\n",
    "# Create training set and define training dataloader\n",
    "## YOUR CODE HERE ##\n",
    "trainval_set = torchvision.datasets.MNIST(root = 'data', train = True, download = True, transform = transform)\n",
    "\n",
    "train_len = int(len(trainval_set)*0.8)\n",
    "val_len = len(trainval_set) - train_len\n",
    "\n",
    "generator1 = torch.Generator().manual_seed(42)\n",
    "train_set , val_set = torch.utils.data.random_split(trainval_set, [train_len, val_len], \n",
    "                                                    generator = generator1)\n",
    "\n",
    "\n",
    "\n",
    "train_loader = torch.utils.data.DataLoader(train_set, batch_size=16, shuffle = True)\n",
    "\n",
    "val_loader = torch.utils.data.DataLoader(val_set, batch_size=16, shuffle =False)\n",
    "\n",
    "# Create test set and define test dataloader\n",
    "## YOUR CODE HERE ##\n",
    "test_set = torchvision.datasets.MNIST(root ='data', train =False, download = True, transform = transform)\n",
    "test_loader = torch.utils.data.DataLoader(test_set, batch_size = 16)\n",
    "\n",
    "print('The training set is {:n}, the validation set is {:n} and the test set is {:n}.'.format(len(train_set),\n",
    "                                                                                                len(val_set),\n",
    "                                                                                                len(test_set)))"
   ]
  },
  {
   "cell_type": "markdown",
   "metadata": {},
   "source": [
    "## Justify your preprocessing\n",
    "\n",
    "In your own words, why did you choose the transforms you chose? If you didn't use any preprocessing steps, why not?"
   ]
  },
  {
   "cell_type": "markdown",
   "metadata": {},
   "source": [
    "I chose the ToTensor() and Normalize transform. The ToTensor() tranforms the image into tensor and the values are normalised to 0-1. The Normalize tensor is used to normalize the values. Then I split two sets from the trainval set to make the train_set which is 80% and val_set 20% of the trainval_set."
   ]
  },
  {
   "cell_type": "markdown",
   "metadata": {},
   "source": [
    "## Explore the Dataset\n",
    "Using matplotlib, numpy, and torch, explore the dimensions of your data.\n",
    "\n",
    "You can view images using the `show5` function defined below – it takes a data loader as an argument.\n",
    "Remember that normalized images will look really weird to you! You may want to try changing your transforms to view images.\n",
    "Typically using no transforms other than `toTensor()` works well for viewing – but not as well for training your network.\n",
    "If `show5` doesn't work, go back and check your code for creating your data loaders and your training/test sets."
   ]
  },
  {
   "cell_type": "code",
   "execution_count": 5,
   "metadata": {},
   "outputs": [],
   "source": [
    "## This cell contains a function for showing 5 images from a dataloader – DO NOT CHANGE THE CONTENTS! ##\n",
    "def show5(img_loader):\n",
    "    dataiter = iter(img_loader)\n",
    "    \n",
    "    batch = next(dataiter)\n",
    "    labels = batch[1][0:5]\n",
    "    images = batch[0][0:5]\n",
    "    for i in range(5):\n",
    "        print(int(labels[i].detach()))\n",
    "    \n",
    "        image = images[i].numpy()\n",
    "        plt.imshow(image.T.squeeze().T)\n",
    "        plt.show()"
   ]
  },
  {
   "cell_type": "code",
   "execution_count": 6,
   "metadata": {},
   "outputs": [
    {
     "name": "stdout",
     "output_type": "stream",
     "text": [
      "7\n"
     ]
    },
    {
     "data": {
      "image/png": "[encoded data removed]",
      "text/plain": [
       "<Figure size 432x288 with 1 Axes>"
      ]
     },
     "metadata": {
      "needs_background": "light"
     },
     "output_type": "display_data"
    },
    {
     "name": "stdout",
     "output_type": "stream",
     "text": [
      "4\n"
     ]
    },
    {
     "data": {
      "image/png": "[encoded data removed]",
      "text/plain": [
       "<Figure size 432x288 with 1 Axes>"
      ]
     },
     "metadata": {
      "needs_background": "light"
     },
     "output_type": "display_data"
    },
    {
     "name": "stdout",
     "output_type": "stream",
     "text": [
      "9\n"
     ]
    },
    {
     "data": {
      "image/png": "[encoded data removed]",
      "text/plain": [
       "<Figure size 432x288 with 1 Axes>"
      ]
     },
     "metadata": {
      "needs_background": "light"
     },
     "output_type": "display_data"
    },
    {
     "name": "stdout",
     "output_type": "stream",
     "text": [
      "2\n"
     ]
    },
    {
     "data": {
      "image/png": "[encoded data removed]",
      "text/plain": [
       "<Figure size 432x288 with 1 Axes>"
      ]
     },
     "metadata": {
      "needs_background": "light"
     },
     "output_type": "display_data"
    },
    {
     "name": "stdout",
     "output_type": "stream",
     "text": [
      "7\n"
     ]
    },
    {
     "data": {
      "image/png": "[encoded data removed]",
      "text/plain": [
       "<Figure size 432x288 with 1 Axes>"
      ]
     },
     "metadata": {
      "needs_background": "light"
     },
     "output_type": "display_data"
    }
   ],
   "source": [
    "# Explore data\n",
    "## YOUR CODE HERE ##\n",
    "show5(train_loader)"
   ]
  },
  {
   "cell_type": "markdown",
   "metadata": {},
   "source": [
    "## Build your Neural Network\n",
    "Using the layers in `torch.nn` (which has been imported as `nn`) and the `torch.nn.functional` module (imported as `F`), construct a neural network based on the parameters of the dataset.\n",
    "Use any architecture you like. \n",
    "\n",
    "*Note*: If you did not flatten your tensors in your transforms or as part of your preprocessing and you are using only `Linear` layers, make sure to use the `Flatten` layer in your network!"
   ]
  },
  {
   "cell_type": "code",
   "execution_count": 7,
   "metadata": {},
   "outputs": [
    {
     "data": {
      "text/plain": [
       "Net(\n",
       "  (fc1): Linear(in_features=784, out_features=512, bias=True)\n",
       "  (fc2): Linear(in_features=512, out_features=10, bias=True)\n",
       ")"
      ]
     },
     "execution_count": 7,
     "metadata": {},
     "output_type": "execute_result"
    }
   ],
   "source": [
    "## YOUR CODE HERE ##\n",
    "class Net(nn.Module):\n",
    "    def __init__(self):\n",
    "        super(Net, self).__init__()\n",
    "        self.activation = F.relu\n",
    "        self.fc1 = nn.Linear(28*28,512)\n",
    "        self.fc2 = nn.Linear(512, 10)\n",
    "\n",
    "    \n",
    "    def forward(self,x):\n",
    "        x = x.view(x.shape[0],-1)\n",
    "        x = self.activation(self.fc1(x))\n",
    "        x = self.fc2(x)\n",
    "        \n",
    "        return x\n",
    "\n",
    "net = Net()\n",
    "net.to(device)"
   ]
  },
  {
   "cell_type": "markdown",
   "metadata": {},
   "source": [
    "Specify a loss function and an optimizer, and instantiate the model.\n",
    "\n",
    "If you use a less common loss function, please note why you chose that loss function in a comment."
   ]
  },
  {
   "cell_type": "code",
   "execution_count": 8,
   "metadata": {},
   "outputs": [],
   "source": [
    "## YOUR CODE HERE ##\n",
    "criterion = nn.CrossEntropyLoss()\n",
    "optimizer = optim.Adam(net.parameters(), lr = 0.001)"
   ]
  },
  {
   "cell_type": "markdown",
   "metadata": {},
   "source": [
    "## Running your Neural Network\n",
    "Use whatever method you like to train your neural network, and ensure you record the average loss at each epoch. \n",
    "Don't forget to use `torch.device()` and the `.to()` method for both your model and your data if you are using GPU!\n",
    "\n",
    "If you want to print your loss **during** each epoch, you can use the `enumerate` function and print the loss after a set number of batches. 250 batches works well for most people!"
   ]
  },
  {
   "cell_type": "code",
   "execution_count": 9,
   "metadata": {},
   "outputs": [],
   "source": [
    "from tqdm import tqdm"
   ]
  },
  {
   "cell_type": "code",
   "execution_count": 11,
   "metadata": {},
   "outputs": [
    {
     "name": "stderr",
     "output_type": "stream",
     "text": [
      "Training: 100%|██████████| 3000/3000 [00:18<00:00, 162.35it/s]\n",
      "Validation: 100%|██████████| 750/750 [00:03<00:00, 218.95it/s]\n",
      "Training:   0%|          | 11/3000 [00:00<00:32, 92.86it/s]"
     ]
    },
    {
     "name": "stdout",
     "output_type": "stream",
     "text": [
      "Epoch 1: Training Loss  0.30410 and validation Loss  0.20038\n"
     ]
    },
    {
     "name": "stderr",
     "output_type": "stream",
     "text": [
      "Training: 100%|██████████| 3000/3000 [00:18<00:00, 163.11it/s]\n",
      "Validation: 100%|██████████| 750/750 [00:03<00:00, 217.98it/s]\n",
      "Training:   0%|          | 10/3000 [00:00<00:30, 99.09it/s]"
     ]
    },
    {
     "name": "stdout",
     "output_type": "stream",
     "text": [
      "Epoch 2: Training Loss  0.15627 and validation Loss  0.13286\n"
     ]
    },
    {
     "name": "stderr",
     "output_type": "stream",
     "text": [
      "Training: 100%|██████████| 3000/3000 [00:18<00:00, 163.76it/s]\n",
      "Validation: 100%|██████████| 750/750 [00:03<00:00, 221.80it/s]\n",
      "Training:   0%|          | 10/3000 [00:00<00:31, 95.46it/s]"
     ]
    },
    {
     "name": "stdout",
     "output_type": "stream",
     "text": [
      "Epoch 3: Training Loss  0.12292 and validation Loss  0.14437\n"
     ]
    },
    {
     "name": "stderr",
     "output_type": "stream",
     "text": [
      "Training: 100%|██████████| 3000/3000 [00:18<00:00, 162.71it/s]\n",
      "Validation: 100%|██████████| 750/750 [00:03<00:00, 207.90it/s]\n",
      "Training:   0%|          | 9/3000 [00:00<00:34, 85.67it/s]"
     ]
    },
    {
     "name": "stdout",
     "output_type": "stream",
     "text": [
      "Epoch 4: Training Loss  0.09882 and validation Loss  0.19412\n"
     ]
    },
    {
     "name": "stderr",
     "output_type": "stream",
     "text": [
      "Training: 100%|██████████| 3000/3000 [00:18<00:00, 162.65it/s]\n",
      "Validation: 100%|██████████| 750/750 [00:03<00:00, 211.33it/s]\n",
      "Training:   0%|          | 9/3000 [00:00<00:35, 85.19it/s]"
     ]
    },
    {
     "name": "stdout",
     "output_type": "stream",
     "text": [
      "Epoch 5: Training Loss  0.08868 and validation Loss  0.11686\n"
     ]
    },
    {
     "name": "stderr",
     "output_type": "stream",
     "text": [
      "Training: 100%|██████████| 3000/3000 [00:18<00:00, 160.26it/s]\n",
      "Validation: 100%|██████████| 750/750 [00:03<00:00, 213.64it/s]\n",
      "Training:   0%|          | 8/3000 [00:00<00:39, 76.61it/s]"
     ]
    },
    {
     "name": "stdout",
     "output_type": "stream",
     "text": [
      "Epoch 6: Training Loss  0.07768 and validation Loss  0.13099\n"
     ]
    },
    {
     "name": "stderr",
     "output_type": "stream",
     "text": [
      "Training: 100%|██████████| 3000/3000 [00:18<00:00, 161.65it/s]\n",
      "Validation: 100%|██████████| 750/750 [00:03<00:00, 219.85it/s]\n",
      "Training:   0%|          | 9/3000 [00:00<00:34, 87.08it/s]"
     ]
    },
    {
     "name": "stdout",
     "output_type": "stream",
     "text": [
      "Epoch 7: Training Loss  0.07164 and validation Loss  0.11821\n"
     ]
    },
    {
     "name": "stderr",
     "output_type": "stream",
     "text": [
      "Training: 100%|██████████| 3000/3000 [00:18<00:00, 162.94it/s]\n",
      "Validation: 100%|██████████| 750/750 [00:03<00:00, 219.38it/s]\n",
      "Training:   0%|          | 11/3000 [00:00<00:28, 105.97it/s]"
     ]
    },
    {
     "name": "stdout",
     "output_type": "stream",
     "text": [
      "Epoch 8: Training Loss  0.06272 and validation Loss  0.14686\n"
     ]
    },
    {
     "name": "stderr",
     "output_type": "stream",
     "text": [
      "Training: 100%|██████████| 3000/3000 [00:18<00:00, 161.76it/s]\n",
      "Validation: 100%|██████████| 750/750 [00:03<00:00, 222.57it/s]\n",
      "Training:   0%|          | 13/3000 [00:00<00:23, 124.76it/s]"
     ]
    },
    {
     "name": "stdout",
     "output_type": "stream",
     "text": [
      "Epoch 9: Training Loss  0.06139 and validation Loss  0.15968\n"
     ]
    },
    {
     "name": "stderr",
     "output_type": "stream",
     "text": [
      "Training: 100%|██████████| 3000/3000 [00:18<00:00, 162.82it/s]\n",
      "Validation: 100%|██████████| 750/750 [00:03<00:00, 224.85it/s]\n",
      "Training:   0%|          | 10/3000 [00:00<00:30, 98.30it/s]"
     ]
    },
    {
     "name": "stdout",
     "output_type": "stream",
     "text": [
      "Epoch 10: Training Loss  0.05658 and validation Loss  0.12718\n"
     ]
    },
    {
     "name": "stderr",
     "output_type": "stream",
     "text": [
      "Training: 100%|██████████| 3000/3000 [00:18<00:00, 159.91it/s]\n",
      "Validation: 100%|██████████| 750/750 [00:03<00:00, 217.90it/s]\n",
      "Training:   0%|          | 9/3000 [00:00<00:34, 86.21it/s]"
     ]
    },
    {
     "name": "stdout",
     "output_type": "stream",
     "text": [
      "Epoch 11: Training Loss  0.05158 and validation Loss  0.17106\n"
     ]
    },
    {
     "name": "stderr",
     "output_type": "stream",
     "text": [
      "Training: 100%|██████████| 3000/3000 [00:18<00:00, 159.97it/s]\n",
      "Validation: 100%|██████████| 750/750 [00:03<00:00, 218.15it/s]\n",
      "Training:   0%|          | 9/3000 [00:00<00:33, 88.85it/s]"
     ]
    },
    {
     "name": "stdout",
     "output_type": "stream",
     "text": [
      "Epoch 12: Training Loss  0.05047 and validation Loss  0.14015\n"
     ]
    },
    {
     "name": "stderr",
     "output_type": "stream",
     "text": [
      "Training: 100%|██████████| 3000/3000 [00:18<00:00, 162.81it/s]\n",
      "Validation: 100%|██████████| 750/750 [00:03<00:00, 220.75it/s]\n",
      "Training:   0%|          | 13/3000 [00:00<00:24, 123.70it/s]"
     ]
    },
    {
     "name": "stdout",
     "output_type": "stream",
     "text": [
      "Epoch 13: Training Loss  0.04781 and validation Loss  0.13561\n"
     ]
    },
    {
     "name": "stderr",
     "output_type": "stream",
     "text": [
      "Training: 100%|██████████| 3000/3000 [00:18<00:00, 161.53it/s]\n",
      "Validation: 100%|██████████| 750/750 [00:03<00:00, 212.86it/s]\n",
      "Training:   0%|          | 12/3000 [00:00<00:25, 119.51it/s]"
     ]
    },
    {
     "name": "stdout",
     "output_type": "stream",
     "text": [
      "Epoch 14: Training Loss  0.04675 and validation Loss  0.15696\n"
     ]
    },
    {
     "name": "stderr",
     "output_type": "stream",
     "text": [
      "Training: 100%|██████████| 3000/3000 [00:18<00:00, 161.07it/s]\n",
      "Validation: 100%|██████████| 750/750 [00:03<00:00, 209.68it/s]\n",
      "Training:   0%|          | 9/3000 [00:00<00:41, 71.68it/s]"
     ]
    },
    {
     "name": "stdout",
     "output_type": "stream",
     "text": [
      "Epoch 15: Training Loss  0.04357 and validation Loss  0.13777\n"
     ]
    },
    {
     "name": "stderr",
     "output_type": "stream",
     "text": [
      "Training: 100%|██████████| 3000/3000 [00:18<00:00, 161.06it/s]\n",
      "Validation: 100%|██████████| 750/750 [00:03<00:00, 212.76it/s]\n",
      "Training:   0%|          | 10/3000 [00:00<00:31, 94.74it/s]"
     ]
    },
    {
     "name": "stdout",
     "output_type": "stream",
     "text": [
      "Epoch 16: Training Loss  0.04350 and validation Loss  0.13523\n"
     ]
    },
    {
     "name": "stderr",
     "output_type": "stream",
     "text": [
      "Training: 100%|██████████| 3000/3000 [00:18<00:00, 162.51it/s]\n",
      "Validation: 100%|██████████| 750/750 [00:03<00:00, 209.53it/s]\n",
      "Training:   0%|          | 12/3000 [00:00<00:28, 104.47it/s]"
     ]
    },
    {
     "name": "stdout",
     "output_type": "stream",
     "text": [
      "Epoch 17: Training Loss  0.04020 and validation Loss  0.16524\n"
     ]
    },
    {
     "name": "stderr",
     "output_type": "stream",
     "text": [
      "Training: 100%|██████████| 3000/3000 [00:18<00:00, 162.02it/s]\n",
      "Validation: 100%|██████████| 750/750 [00:03<00:00, 211.29it/s]\n",
      "Training:   0%|          | 10/3000 [00:00<00:30, 99.50it/s]"
     ]
    },
    {
     "name": "stdout",
     "output_type": "stream",
     "text": [
      "Epoch 18: Training Loss  0.03972 and validation Loss  0.13899\n"
     ]
    },
    {
     "name": "stderr",
     "output_type": "stream",
     "text": [
      "Training: 100%|██████████| 3000/3000 [00:18<00:00, 161.66it/s]\n",
      "Validation: 100%|██████████| 750/750 [00:03<00:00, 213.81it/s]\n",
      "Training:   0%|          | 6/3000 [00:00<00:50, 59.40it/s]"
     ]
    },
    {
     "name": "stdout",
     "output_type": "stream",
     "text": [
      "Epoch 19: Training Loss  0.03558 and validation Loss  0.22854\n"
     ]
    },
    {
     "name": "stderr",
     "output_type": "stream",
     "text": [
      "Training: 100%|██████████| 3000/3000 [00:18<00:00, 158.66it/s]\n",
      "Validation: 100%|██████████| 750/750 [00:03<00:00, 212.16it/s]\n",
      "Training:   0%|          | 12/3000 [00:00<00:25, 115.36it/s]"
     ]
    },
    {
     "name": "stdout",
     "output_type": "stream",
     "text": [
      "Epoch 20: Training Loss  0.04017 and validation Loss  0.20049\n"
     ]
    },
    {
     "name": "stderr",
     "output_type": "stream",
     "text": [
      "Training: 100%|██████████| 3000/3000 [00:18<00:00, 160.62it/s]\n",
      "Validation: 100%|██████████| 750/750 [00:03<00:00, 215.23it/s]\n",
      "Training:   0%|          | 9/3000 [00:00<00:34, 85.98it/s]"
     ]
    },
    {
     "name": "stdout",
     "output_type": "stream",
     "text": [
      "Epoch 21: Training Loss  0.03529 and validation Loss  0.17123\n"
     ]
    },
    {
     "name": "stderr",
     "output_type": "stream",
     "text": [
      "Training: 100%|██████████| 3000/3000 [00:18<00:00, 161.19it/s]\n",
      "Validation: 100%|██████████| 750/750 [00:03<00:00, 217.15it/s]\n",
      "Training:   0%|          | 10/3000 [00:00<00:31, 95.56it/s]"
     ]
    },
    {
     "name": "stdout",
     "output_type": "stream",
     "text": [
      "Epoch 22: Training Loss  0.03566 and validation Loss  0.18316\n"
     ]
    },
    {
     "name": "stderr",
     "output_type": "stream",
     "text": [
      "Training: 100%|██████████| 3000/3000 [00:18<00:00, 159.56it/s]\n",
      "Validation: 100%|██████████| 750/750 [00:03<00:00, 214.97it/s]\n",
      "Training:   0%|          | 7/3000 [00:00<00:44, 67.05it/s]"
     ]
    },
    {
     "name": "stdout",
     "output_type": "stream",
     "text": [
      "Epoch 23: Training Loss  0.03362 and validation Loss  0.17946\n"
     ]
    },
    {
     "name": "stderr",
     "output_type": "stream",
     "text": [
      "Training: 100%|██████████| 3000/3000 [00:18<00:00, 160.99it/s]\n",
      "Validation: 100%|██████████| 750/750 [00:03<00:00, 204.61it/s]\n",
      "Training:   0%|          | 10/3000 [00:00<00:31, 96.15it/s]"
     ]
    },
    {
     "name": "stdout",
     "output_type": "stream",
     "text": [
      "Epoch 24: Training Loss  0.03038 and validation Loss  0.16744\n"
     ]
    },
    {
     "name": "stderr",
     "output_type": "stream",
     "text": [
      "Training: 100%|██████████| 3000/3000 [00:18<00:00, 159.69it/s]\n",
      "Validation: 100%|██████████| 750/750 [00:03<00:00, 216.33it/s]\n",
      "Training:   0%|          | 14/3000 [00:00<00:25, 115.29it/s]"
     ]
    },
    {
     "name": "stdout",
     "output_type": "stream",
     "text": [
      "Epoch 25: Training Loss  0.03388 and validation Loss  0.21593\n"
     ]
    },
    {
     "name": "stderr",
     "output_type": "stream",
     "text": [
      "Training: 100%|██████████| 3000/3000 [00:18<00:00, 158.48it/s]\n",
      "Validation: 100%|██████████| 750/750 [00:03<00:00, 216.73it/s]\n",
      "Training:   0%|          | 14/3000 [00:00<00:21, 138.32it/s]"
     ]
    },
    {
     "name": "stdout",
     "output_type": "stream",
     "text": [
      "Epoch 26: Training Loss  0.02802 and validation Loss  0.19994\n"
     ]
    },
    {
     "name": "stderr",
     "output_type": "stream",
     "text": [
      "Training: 100%|██████████| 3000/3000 [00:18<00:00, 159.76it/s]\n",
      "Validation: 100%|██████████| 750/750 [00:03<00:00, 211.03it/s]\n",
      "Training:   0%|          | 4/3000 [00:00<01:16, 39.26it/s]"
     ]
    },
    {
     "name": "stdout",
     "output_type": "stream",
     "text": [
      "Epoch 27: Training Loss  0.03061 and validation Loss  0.21437\n"
     ]
    },
    {
     "name": "stderr",
     "output_type": "stream",
     "text": [
      "Training: 100%|██████████| 3000/3000 [00:19<00:00, 157.77it/s]\n",
      "Validation: 100%|██████████| 750/750 [00:03<00:00, 210.82it/s]\n",
      "Training:   0%|          | 12/3000 [00:00<00:27, 107.45it/s]"
     ]
    },
    {
     "name": "stdout",
     "output_type": "stream",
     "text": [
      "Epoch 28: Training Loss  0.03164 and validation Loss  0.20790\n"
     ]
    },
    {
     "name": "stderr",
     "output_type": "stream",
     "text": [
      "Training: 100%|██████████| 3000/3000 [00:18<00:00, 159.49it/s]\n",
      "Validation: 100%|██████████| 750/750 [00:03<00:00, 209.53it/s]\n",
      "Training:   0%|          | 8/3000 [00:00<00:44, 66.87it/s]"
     ]
    },
    {
     "name": "stdout",
     "output_type": "stream",
     "text": [
      "Epoch 29: Training Loss  0.02909 and validation Loss  0.19358\n"
     ]
    },
    {
     "name": "stderr",
     "output_type": "stream",
     "text": [
      "Training: 100%|██████████| 3000/3000 [00:18<00:00, 159.15it/s]\n",
      "Validation: 100%|██████████| 750/750 [00:03<00:00, 214.02it/s]\n",
      "Training:   0%|          | 9/3000 [00:00<00:34, 86.30it/s]"
     ]
    },
    {
     "name": "stdout",
     "output_type": "stream",
     "text": [
      "Epoch 30: Training Loss  0.02813 and validation Loss  0.20930\n"
     ]
    },
    {
     "name": "stderr",
     "output_type": "stream",
     "text": [
      "Training: 100%|██████████| 3000/3000 [00:18<00:00, 160.47it/s]\n",
      "Validation: 100%|██████████| 750/750 [00:03<00:00, 205.50it/s]\n",
      "Training:   0%|          | 7/3000 [00:00<00:45, 65.67it/s]"
     ]
    },
    {
     "name": "stdout",
     "output_type": "stream",
     "text": [
      "Epoch 31: Training Loss  0.03283 and validation Loss  0.18593\n"
     ]
    },
    {
     "name": "stderr",
     "output_type": "stream",
     "text": [
      "Training: 100%|██████████| 3000/3000 [00:18<00:00, 159.10it/s]\n",
      "Validation: 100%|██████████| 750/750 [00:03<00:00, 215.96it/s]\n",
      "Training:   0%|          | 10/3000 [00:00<00:30, 99.55it/s]"
     ]
    },
    {
     "name": "stdout",
     "output_type": "stream",
     "text": [
      "Epoch 32: Training Loss  0.02577 and validation Loss  0.23670\n"
     ]
    },
    {
     "name": "stderr",
     "output_type": "stream",
     "text": [
      "Training: 100%|██████████| 3000/3000 [00:19<00:00, 156.90it/s]\n",
      "Validation: 100%|██████████| 750/750 [00:03<00:00, 216.77it/s]\n",
      "Training:   0%|          | 11/3000 [00:00<00:27, 107.22it/s]"
     ]
    },
    {
     "name": "stdout",
     "output_type": "stream",
     "text": [
      "Epoch 33: Training Loss  0.03252 and validation Loss  0.21495\n"
     ]
    },
    {
     "name": "stderr",
     "output_type": "stream",
     "text": [
      "Training: 100%|██████████| 3000/3000 [00:19<00:00, 156.06it/s]\n",
      "Validation: 100%|██████████| 750/750 [00:03<00:00, 215.18it/s]\n",
      "Training:   0%|          | 11/3000 [00:00<00:29, 103.00it/s]"
     ]
    },
    {
     "name": "stdout",
     "output_type": "stream",
     "text": [
      "Epoch 34: Training Loss  0.02609 and validation Loss  0.28023\n"
     ]
    },
    {
     "name": "stderr",
     "output_type": "stream",
     "text": [
      "Training: 100%|██████████| 3000/3000 [00:18<00:00, 159.59it/s]\n",
      "Validation: 100%|██████████| 750/750 [00:03<00:00, 212.67it/s]\n",
      "Training:   0%|          | 10/3000 [00:00<00:30, 98.82it/s]"
     ]
    },
    {
     "name": "stdout",
     "output_type": "stream",
     "text": [
      "Epoch 35: Training Loss  0.02912 and validation Loss  0.24314\n"
     ]
    },
    {
     "name": "stderr",
     "output_type": "stream",
     "text": [
      "Training: 100%|██████████| 3000/3000 [00:18<00:00, 159.69it/s]\n",
      "Validation: 100%|██████████| 750/750 [00:03<00:00, 207.63it/s]\n",
      "Training:   0%|          | 7/3000 [00:00<00:45, 66.18it/s]"
     ]
    },
    {
     "name": "stdout",
     "output_type": "stream",
     "text": [
      "Epoch 36: Training Loss  0.02624 and validation Loss  0.23100\n"
     ]
    },
    {
     "name": "stderr",
     "output_type": "stream",
     "text": [
      "Training: 100%|██████████| 3000/3000 [00:19<00:00, 155.34it/s]\n",
      "Validation: 100%|██████████| 750/750 [00:03<00:00, 208.02it/s]\n",
      "Training:   0%|          | 12/3000 [00:00<00:26, 114.48it/s]"
     ]
    },
    {
     "name": "stdout",
     "output_type": "stream",
     "text": [
      "Epoch 37: Training Loss  0.02726 and validation Loss  0.24449\n"
     ]
    },
    {
     "name": "stderr",
     "output_type": "stream",
     "text": [
      "Training: 100%|██████████| 3000/3000 [00:19<00:00, 154.19it/s]\n",
      "Validation: 100%|██████████| 750/750 [00:03<00:00, 208.43it/s]\n",
      "Training:   0%|          | 5/3000 [00:00<01:01, 48.86it/s]"
     ]
    },
    {
     "name": "stdout",
     "output_type": "stream",
     "text": [
      "Epoch 38: Training Loss  0.02596 and validation Loss  0.21982\n"
     ]
    },
    {
     "name": "stderr",
     "output_type": "stream",
     "text": [
      "Training: 100%|██████████| 3000/3000 [00:19<00:00, 152.22it/s]\n",
      "Validation: 100%|██████████| 750/750 [00:03<00:00, 208.48it/s]\n",
      "Training:   0%|          | 8/3000 [00:00<00:37, 78.84it/s]"
     ]
    },
    {
     "name": "stdout",
     "output_type": "stream",
     "text": [
      "Epoch 39: Training Loss  0.02646 and validation Loss  0.20991\n"
     ]
    },
    {
     "name": "stderr",
     "output_type": "stream",
     "text": [
      "Training: 100%|██████████| 3000/3000 [00:19<00:00, 151.89it/s]\n",
      "Validation: 100%|██████████| 750/750 [00:03<00:00, 214.70it/s]\n",
      "Training:   0%|          | 13/3000 [00:00<00:29, 102.24it/s]"
     ]
    },
    {
     "name": "stdout",
     "output_type": "stream",
     "text": [
      "Epoch 40: Training Loss  0.02521 and validation Loss  0.20920\n"
     ]
    },
    {
     "name": "stderr",
     "output_type": "stream",
     "text": [
      "Training: 100%|██████████| 3000/3000 [00:18<00:00, 159.10it/s]\n",
      "Validation: 100%|██████████| 750/750 [00:03<00:00, 212.10it/s]\n",
      "Training:   0%|          | 10/3000 [00:00<00:30, 97.71it/s]"
     ]
    },
    {
     "name": "stdout",
     "output_type": "stream",
     "text": [
      "Epoch 41: Training Loss  0.02363 and validation Loss  0.27459\n"
     ]
    },
    {
     "name": "stderr",
     "output_type": "stream",
     "text": [
      "Training: 100%|██████████| 3000/3000 [00:18<00:00, 158.29it/s]\n",
      "Validation: 100%|██████████| 750/750 [00:03<00:00, 210.26it/s]\n",
      "Training:   0%|          | 4/3000 [00:00<01:15, 39.51it/s]"
     ]
    },
    {
     "name": "stdout",
     "output_type": "stream",
     "text": [
      "Epoch 42: Training Loss  0.02907 and validation Loss  0.26295\n"
     ]
    },
    {
     "name": "stderr",
     "output_type": "stream",
     "text": [
      "Training: 100%|██████████| 3000/3000 [00:19<00:00, 154.44it/s]\n",
      "Validation: 100%|██████████| 750/750 [00:03<00:00, 203.82it/s]\n",
      "Training:   0%|          | 7/3000 [00:00<00:44, 66.76it/s]"
     ]
    },
    {
     "name": "stdout",
     "output_type": "stream",
     "text": [
      "Epoch 43: Training Loss  0.02560 and validation Loss  0.28079\n"
     ]
    },
    {
     "name": "stderr",
     "output_type": "stream",
     "text": [
      "Training: 100%|██████████| 3000/3000 [00:19<00:00, 152.37it/s]\n",
      "Validation: 100%|██████████| 750/750 [00:03<00:00, 208.44it/s]\n",
      "Training:   0%|          | 8/3000 [00:00<00:39, 75.89it/s]"
     ]
    },
    {
     "name": "stdout",
     "output_type": "stream",
     "text": [
      "Epoch 44: Training Loss  0.02021 and validation Loss  0.26606\n"
     ]
    },
    {
     "name": "stderr",
     "output_type": "stream",
     "text": [
      "Training: 100%|██████████| 3000/3000 [00:19<00:00, 152.21it/s]\n",
      "Validation: 100%|██████████| 750/750 [00:03<00:00, 193.29it/s]\n",
      "Training:   0%|          | 4/3000 [00:00<01:17, 38.88it/s]"
     ]
    },
    {
     "name": "stdout",
     "output_type": "stream",
     "text": [
      "Epoch 45: Training Loss  0.02336 and validation Loss  0.23860\n"
     ]
    },
    {
     "name": "stderr",
     "output_type": "stream",
     "text": [
      "Training: 100%|██████████| 3000/3000 [00:19<00:00, 155.34it/s]\n",
      "Validation: 100%|██████████| 750/750 [00:03<00:00, 210.05it/s]\n",
      "Training:   0%|          | 6/3000 [00:00<00:53, 55.97it/s]"
     ]
    },
    {
     "name": "stdout",
     "output_type": "stream",
     "text": [
      "Epoch 46: Training Loss  0.02353 and validation Loss  0.26820\n"
     ]
    },
    {
     "name": "stderr",
     "output_type": "stream",
     "text": [
      "Training: 100%|██████████| 3000/3000 [00:19<00:00, 152.16it/s]\n",
      "Validation: 100%|██████████| 750/750 [00:03<00:00, 201.93it/s]\n",
      "Training:   0%|          | 9/3000 [00:00<00:34, 86.68it/s]"
     ]
    },
    {
     "name": "stdout",
     "output_type": "stream",
     "text": [
      "Epoch 47: Training Loss  0.02441 and validation Loss  0.27794\n"
     ]
    },
    {
     "name": "stderr",
     "output_type": "stream",
     "text": [
      "Training: 100%|██████████| 3000/3000 [00:19<00:00, 153.16it/s]\n",
      "Validation: 100%|██████████| 750/750 [00:03<00:00, 194.69it/s]\n",
      "Training:   0%|          | 11/3000 [00:00<00:32, 91.63it/s]"
     ]
    },
    {
     "name": "stdout",
     "output_type": "stream",
     "text": [
      "Epoch 48: Training Loss  0.02273 and validation Loss  0.27758\n"
     ]
    },
    {
     "name": "stderr",
     "output_type": "stream",
     "text": [
      "Training: 100%|██████████| 3000/3000 [00:19<00:00, 150.74it/s]\n",
      "Validation: 100%|██████████| 750/750 [00:03<00:00, 204.99it/s]\n",
      "Training:   0%|          | 10/3000 [00:00<00:29, 99.95it/s]"
     ]
    },
    {
     "name": "stdout",
     "output_type": "stream",
     "text": [
      "Epoch 49: Training Loss  0.02276 and validation Loss  0.26553\n"
     ]
    },
    {
     "name": "stderr",
     "output_type": "stream",
     "text": [
      "Training: 100%|██████████| 3000/3000 [00:19<00:00, 153.22it/s]\n",
      "Validation: 100%|██████████| 750/750 [00:03<00:00, 198.78it/s]"
     ]
    },
    {
     "name": "stdout",
     "output_type": "stream",
     "text": [
      "Epoch 50: Training Loss  0.02660 and validation Loss  0.27243\n"
     ]
    },
    {
     "name": "stderr",
     "output_type": "stream",
     "text": [
      "\n"
     ]
    }
   ],
   "source": [
    "## YOUR CODE HERE ##\n",
    "n_epochs = 50\n",
    "\n",
    "net.train()\n",
    "\n",
    "train_loss_history, val_loss_history = [], []\n",
    "\n",
    "for epoch in range(n_epochs):\n",
    "    \n",
    "    train_loss = 0.0\n",
    "    \n",
    "    for batch_id, (data, label) in tqdm(enumerate(train_loader), \n",
    "                                    desc = 'Training', \n",
    "                                    total = len(train_loader), \n",
    "                                    leave = True,\n",
    "                                   ):\n",
    "        \n",
    "        # Pass to GPU if available.\n",
    "        if torch.cuda.is_available():\n",
    "            data, label = data.cuda(), label.cuda()\n",
    "        \n",
    "        optimizer.zero_grad()\n",
    "    \n",
    "        output = net(data)\n",
    "    \n",
    "        loss = criterion(output, label)\n",
    "    \n",
    "        loss.backward()\n",
    "    \n",
    "        optimizer.step()\n",
    "    \n",
    "    \n",
    "        train_loss+=loss.item()*data.size(0)\n",
    "        \n",
    "    \n",
    "    train_loss = train_loss/len(train_loader.dataset)\n",
    "    train_loss_history.append(train_loss)\n",
    "    \n",
    "    \n",
    "    with torch.no_grad():\n",
    "        \n",
    "        net.eval()\n",
    "        \n",
    "        valid_loss = 0.0\n",
    "        \n",
    "        for batch_id, (data, label) in tqdm(enumerate(val_loader), desc ='Validation', total = len(val_loader), leave = True):\n",
    "            \n",
    "            # Pass to GPU if available.\n",
    "            if torch.cuda.is_available():\n",
    "                data, label = data.cuda(), label.cuda()\n",
    "            \n",
    "            output = net(data)\n",
    "            \n",
    "            loss_value = criterion(output, label)\n",
    "            \n",
    "            valid_loss = valid_loss + (1/(batch_id +1)*(loss_value.data.item()-valid_loss))\n",
    "            \n",
    "    val_loss_history.append(valid_loss)\n",
    "            \n",
    "    net.train()\n",
    "    \n",
    "    print(f\"Epoch {epoch + 1}: Training Loss {train_loss: .5f} and validation Loss {valid_loss: .5f}\")\n",
    "    "
   ]
  },
  {
   "cell_type": "markdown",
   "metadata": {},
   "source": [
    "Plot the training loss (and validation loss/accuracy, if recorded)."
   ]
  },
  {
   "cell_type": "code",
   "execution_count": 12,
   "metadata": {},
   "outputs": [
    {
     "data": {
      "image/png": "[encoded data removed]",
      "text/plain": [
       "<Figure size 432x288 with 1 Axes>"
      ]
     },
     "metadata": {
      "needs_background": "light"
     },
     "output_type": "display_data"
    }
   ],
   "source": [
    "## YOUR CODE HERE ##\n",
    "plt.plot(train_loss_history, label='Training Loss')\n",
    "plt.plot(val_loss_history, label ='Validation Loss')\n",
    "plt.legend()\n",
    "plt.show()"
   ]
  },
  {
   "cell_type": "markdown",
   "metadata": {},
   "source": [
    "## Testing your model\n",
    "Using the previously created `DataLoader` for the test set, compute the percentage of correct predictions using the highest probability prediction. \n",
    "\n",
    "If your accuracy is over 90%, great work, but see if you can push a bit further! \n",
    "If your accuracy is under 90%, you'll need to make improvements.\n",
    "Go back and check your model architecture, loss function, and optimizer to make sure they're appropriate for an image classification task."
   ]
  },
  {
   "cell_type": "code",
   "execution_count": 22,
   "metadata": {},
   "outputs": [
    {
     "name": "stderr",
     "output_type": "stream",
     "text": [
      "Testing: 100%|███████████████████████████████| 625/625 [00:04<00:00, 147.94it/s]"
     ]
    },
    {
     "name": "stdout",
     "output_type": "stream",
     "text": [
      "Test Loss: 0.260012\n",
      "\n",
      "Test Accuracy of 0: 98.47%% (965/980)\n",
      "Test Accuracy of 1: 99.12%% (1125/1135)\n",
      "Test Accuracy of 2: 98.35%% (1015/1032)\n",
      "Test Accuracy of 3: 97.72%% (987/1010)\n",
      "Test Accuracy of 4: 97.66%% (959/982)\n",
      "Test Accuracy of 5: 98.32%% (877/892)\n",
      "Test Accuracy of 6: 97.60%% (935/958)\n",
      "Test Accuracy of 7: 96.11%% (988/1028)\n",
      "Test Accuracy of 8: 95.28%% (928/974)\n",
      "Test Accuracy of 9: 95.74%% (966/1009)\n",
      "\n",
      "Test Accuracy (Overall): 97.45%% (9745/10000)\n"
     ]
    },
    {
     "name": "stderr",
     "output_type": "stream",
     "text": [
      "\n"
     ]
    }
   ],
   "source": [
    "# initialize lists to monitor test loss and accuracy\n",
    "test_loss = 0.0\n",
    "class_correct = list(0.0 for i in range(10))\n",
    "class_total = list(0.0 for i in range(10))\n",
    "\n",
    "net.eval()  # prep model for *evaluation*\n",
    "\n",
    "for batch_idx, (data, label) in tqdm(\n",
    "    enumerate(test_loader),\n",
    "    desc=\"Testing\",\n",
    "    total=len(test_loader),\n",
    "    leave=True,\n",
    "    ncols=80,\n",
    "):\n",
    "    \n",
    "    # Pass to GPU if available.\n",
    "    if torch.cuda.is_available():\n",
    "        data, label = data.cuda(), label.cuda()\n",
    "        \n",
    "    # forward pass: compute predicted outputs by passing inputs to the model\n",
    "    output = net(data)\n",
    "    # calculate the loss\n",
    "    loss = criterion(output, label)\n",
    "    # update test loss\n",
    "    test_loss += loss.item() * data.size(0)\n",
    "    # convert output probabilities to predicted class\n",
    "    _, pred = torch.max(output, 1)\n",
    "    # compare predictions to true label\n",
    "    correct = np.squeeze(pred.eq(label.data.view_as(pred)))\n",
    "    # calculate test accuracy for each object class\n",
    "    for i in range(data.shape[0]):\n",
    "        label1 = label.data[i]\n",
    "        class_correct[label1] += correct[i].item()\n",
    "        class_total[label1] += 1\n",
    "\n",
    "# calculate and print avg test loss\n",
    "test_loss = test_loss / len(test_loader.dataset)\n",
    "print(f\"Test Loss: {test_loss:.6f}\\n\")\n",
    "\n",
    "\n",
    "print(\n",
    "    f\"\\nTest Accuracy (Overall): {100.0 * np.sum(class_correct) / np.sum(class_total)}%% \"\n",
    "    f\"({int(np.sum(class_correct))}/{int(np.sum(class_total))})\"\n",
    ")"
   ]
  },
  {
   "cell_type": "markdown",
   "metadata": {},
   "source": [
    "## Improving your model\n",
    "\n",
    "Once your model is done training, try tweaking your hyperparameters and training again below to improve your accuracy on the test set!"
   ]
  },
  {
   "cell_type": "code",
   "execution_count": 25,
   "metadata": {},
   "outputs": [],
   "source": [
    "## YOUR CODE HERE ##\n",
    " #Initially I used 3 layer network but my accuracy was not crossing 80% then I used just one hidden and one output layer and\n",
    " #increased my learning rate from 0.1 to 0.001 and I achieved 97% accuracy."
   ]
  },
  {
   "cell_type": "markdown",
   "metadata": {},
   "source": [
    "## Saving your model\n",
    "Using `torch.save`, save your model for future loading."
   ]
  },
  {
   "cell_type": "code",
   "execution_count": 23,
   "metadata": {},
   "outputs": [],
   "source": [
    "## YOUR CODE HERE ##\n",
    "torch.save(net.state_dict(),'checkpoint.pth')"
   ]
  },
  {
   "cell_type": "code",
   "execution_count": null,
   "metadata": {},
   "outputs": [],
   "source": []
  }
 ],
 "metadata": {
  "kernelspec": {
   "display_name": "Python 3",
   "language": "python",
   "name": "python3"
  },
  "language_info": {
   "codemirror_mode": {
    "name": "ipython",
    "version": 3
   },
   "file_extension": ".py",
   "mimetype": "text/x-python",
   "name": "python",
   "nbconvert_exporter": "python",
   "pygments_lexer": "ipython3",
   "version": "3.7.6"
  }
 },
 "nbformat": 4,
 "nbformat_minor": 4
}
